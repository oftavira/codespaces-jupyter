{
 "cells": [
  {
   "cell_type": "code",
   "execution_count": 8,
   "metadata": {},
   "outputs": [],
   "source": [
    "import matplotlib.pyplot as plt\n",
    "import numpy as np\n",
    "import os\n",
    "\n",
    "\n",
    "class RamanSpectrum:\n",
    "    def __init__(self, filepath):\n",
    "        # Read in the data from the file\n",
    "        with open(filepath, 'r', encoding='iso-8859-1') as f:\n",
    "            lines = f.readlines()\n",
    "        \n",
    "        # Extract the metadata from the file\n",
    "        metadata = {}\n",
    "        for line in lines:\n",
    "        \n",
    "            if line.startswith(\"#\"):\n",
    "                # Storing the metadata\n",
    "                key, value = line.strip().split(\"=\")\n",
    "                metadata[key[1:]] = value.replace('\\t', '')\n",
    "        # Now that we have the metadata stored in a dictionary, we can\n",
    "        # store the value of the keys in a set of strings\n",
    "\n",
    "        self.metakeys = metadata.keys()\n",
    "        \n",
    "        # Extract the x and y data from the file\n",
    "        data = np.loadtxt(lines[len(metadata):])\n",
    "        self.x = data[:,0]\n",
    "        self.y = data[:,1]\n",
    "        \n",
    "        # Store the metadata as object attributes\n",
    "        self.metadata = metadata\n",
    "    \n",
    "    def plot(self):\n",
    "        plt.plot(self.x, self.y)\n",
    "        plt.xlabel(\"Wavenumber (cm$^{-1}$)\")\n",
    "        plt.ylabel(\"Intensity (counts)\")\n",
    "        plt.show()"
   ]
  },
  {
   "cell_type": "code",
   "execution_count": 9,
   "metadata": {},
   "outputs": [
    {
     "name": "stdout",
     "output_type": "stream",
     "text": [
      "['raman_2//Si_nano_muestra 3_25.txt', 'raman_2//Si_nano_muestra 3_16.txt', 'raman_2//Si_nano_muestra 3_63.txt', 'raman_2//Si_nano_muestra 3_01.txt', 'raman_2//Si_nano_muestra 3_64.txt', 'raman_2//Si_nano_muestra 3_31.txt', 'raman_2//Si_nano_muestra 3_46.txt', 'raman_2//Si_nano_muestra 3_59.txt', 'raman_2//Si_nano_muestra 3_57.txt', 'raman_2//Si_nano_muestra 3_38.txt', 'raman_2//Si_nano_muestra 3_62.txt', 'raman_2//Si_nano_muestra 3_48.txt', 'raman_2//Si_nano_muestra 3_37.txt', 'raman_2//Si_nano_muestra 3_34.txt', 'raman_2//Si_nano_muestra 3_33.txt', 'raman_2//Si_nano_muestra 3_17.txt', 'raman_2//Si_nano_muestra 3_65.txt', 'raman_2//Si_nano_muestra 3_52.txt', 'raman_2//Si_nano_muestra 3_32.txt', 'raman_2//Si_nano_muestra 3_60.txt']\n"
     ]
    }
   ],
   "source": [
    "path = \"raman_2/\"\n",
    "files = []\n",
    "\n",
    "for r, d, f in os.walk(path):\n",
    "    for file in f:\n",
    "        if '.txt' in file:\n",
    "            files.append(r+'/'+file)\n",
    "\n",
    "print(files)"
   ]
  },
  {
   "cell_type": "code",
   "execution_count": 10,
   "metadata": {},
   "outputs": [
    {
     "data": {
      "text/plain": [
       "{'Acq. time (s)': '10',\n",
       " 'Accumulations': '2',\n",
       " 'Range (cm-¹)': '100...1000',\n",
       " 'Windows': '1',\n",
       " 'Autofocus': 'Off',\n",
       " 'AutoExposure': 'Off',\n",
       " 'Spike filter': 'Multiple accum.',\n",
       " 'Delay time (s)': '0',\n",
       " 'Binning': '1',\n",
       " 'Readout mode': 'Signal',\n",
       " 'DeNoise': 'Off',\n",
       " 'ICS correction': 'Off',\n",
       " 'Dark correction': 'Off',\n",
       " 'Inst. Process': 'Off',\n",
       " 'Instrument': 'LabRAM HR Evol',\n",
       " 'Detector': 'Syncerity OE',\n",
       " 'Objective': 'x100_VIS_LWD',\n",
       " 'Grating': '600 (500nm)',\n",
       " 'ND Filter': '50%',\n",
       " 'Laser': '633nm_Edge',\n",
       " 'Hole': '70.0087',\n",
       " 'Range': 'Visible',\n",
       " 'Project': 'Omar',\n",
       " 'Sample': 'Si_Nano',\n",
       " 'Site': '21_03_2023',\n",
       " 'Title': 'Si_nano_muestra 3',\n",
       " 'Remark': '',\n",
       " 'Date': '21.03.2023 10:57',\n",
       " 'Acquired': '21.03.2023 10:57:45'}"
      ]
     },
     "execution_count": 10,
     "metadata": {},
     "output_type": "execute_result"
    }
   ],
   "source": [
    "information = []\n",
    "\n",
    "spectrum = RamanSpectrum(files[0])\n",
    "\n",
    "spectrum.metadata"
   ]
  },
  {
   "cell_type": "code",
   "execution_count": 11,
   "metadata": {},
   "outputs": [
    {
     "name": "stdout",
     "output_type": "stream",
     "text": [
      "dict_keys(['Acq. time (s)', 'Accumulations', 'Range (cm-¹)', 'Windows', 'Autofocus', 'AutoExposure', 'Spike filter', 'Delay time (s)', 'Binning', 'Readout mode', 'DeNoise', 'ICS correction', 'Dark correction', 'Inst. Process', 'Instrument', 'Detector', 'Objective', 'Grating', 'ND Filter', 'Laser', 'Hole', 'Range', 'Project', 'Sample', 'Site', 'Title', 'Remark', 'Date', 'Acquired'])\n"
     ]
    }
   ],
   "source": [
    "print(spectrum.metakeys)"
   ]
  },
  {
   "cell_type": "code",
   "execution_count": 13,
   "metadata": {},
   "outputs": [
    {
     "data": {
      "text/plain": [
       "dict_keys"
      ]
     },
     "execution_count": 13,
     "metadata": {},
     "output_type": "execute_result"
    }
   ],
   "source": [
    "type(spectrum.metakeys)"
   ]
  },
  {
   "cell_type": "code",
   "execution_count": null,
   "metadata": {},
   "outputs": [],
   "source": []
  },
  {
   "cell_type": "code",
   "execution_count": 33,
   "metadata": {},
   "outputs": [],
   "source": [
    "import re\n",
    "\n",
    "information = []\n",
    "\n",
    "spectrum = RamanSpectrum(files[0])\n",
    "keys = spectrum.metakeys\n",
    "\n",
    "def acces_value(pattern, dict_keys_obj):\n",
    "        matched_keys = set()\n",
    "        regex = re.compile(pattern, re.IGNORECASE)\n",
    "\n",
    "        for key in dict_keys_obj:\n",
    "            if regex.search(key):\n",
    "                matched_keys.add(key)\n",
    "        print(matched_keys)\n",
    "        return matched_keys"
   ]
  },
  {
   "cell_type": "code",
   "execution_count": 34,
   "metadata": {},
   "outputs": [
    {
     "data": {
      "text/plain": [
       "{'Laser'}"
      ]
     },
     "execution_count": 34,
     "metadata": {},
     "output_type": "execute_result"
    }
   ],
   "source": []
  },
  {
   "cell_type": "code",
   "execution_count": 36,
   "metadata": {},
   "outputs": [
    {
     "data": {
      "text/plain": [
       "[<matplotlib.lines.Line2D at 0x7f09bb818fa0>]"
      ]
     },
     "execution_count": 36,
     "metadata": {},
     "output_type": "execute_result"
    },
    {
     "data": {
      "image/png": "[encoded data removed]",
      "text/plain": [
       "<Figure size 640x480 with 1 Axes>"
      ]
     },
     "metadata": {},
     "output_type": "display_data"
    }
   ],
   "source": [
    "import numpy as np\n",
    "import matplotlib.pyplot as plt\n",
    "from ipywidgets import interact, IntSlider\n",
    "\n",
    "def estimate_baseline(y, window_size=100):\n",
    "    # Calculate the rolling mean as the baseline\n",
    "    baseline = np.convolve(y, np.ones(window_size)/window_size, mode='same')\n",
    "    return baseline\n",
    "\n",
    "xx, yy = spectrum.x, spectrum.y - estimate_baseline(spectrum.y)\n",
    "\n",
    "plt.plot(xx, yy)\n",
    "\n"
   ]
  },
  {
   "cell_type": "code",
   "execution_count": null,
   "metadata": {},
   "outputs": [],
   "source": []
  }
 ],
 "metadata": {
  "kernelspec": {
   "display_name": "Python 3",
   "language": "python",
   "name": "python3"
  },
  "language_info": {
   "codemirror_mode": {
    "name": "ipython",
    "version": 3
   },
   "file_extension": ".py",
   "mimetype": "text/x-python",
   "name": "python",
   "nbconvert_exporter": "python",
   "pygments_lexer": "ipython3",
   "version": "3.10.4"
  },
  "orig_nbformat": 4
 },
 "nbformat": 4,
 "nbformat_minor": 2
}
