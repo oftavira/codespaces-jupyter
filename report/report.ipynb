{
 "cells": [
  {
   "cell_type": "code",
   "execution_count": 27,
   "metadata": {},
   "outputs": [
    {
     "data": {
      "application/vnd.jupyter.widget-view+json": {
       "model_id": "8692f77532084640b27e49edbddf145e",
       "version_major": 2,
       "version_minor": 0
      },
      "text/plain": [
       "Button(description='Previous', style=ButtonStyle())"
      ]
     },
     "metadata": {},
     "output_type": "display_data"
    },
    {
     "data": {
      "application/vnd.jupyter.widget-view+json": {
       "model_id": "7cf9c949b56a4387b4c16d160b7f84e5",
       "version_major": 2,
       "version_minor": 0
      },
      "text/plain": [
       "Button(description='Next', style=ButtonStyle())"
      ]
     },
     "metadata": {},
     "output_type": "display_data"
    },
    {
     "data": {
      "application/vnd.jupyter.widget-view+json": {
       "model_id": "0ecf837d24594a83ade6c3ec0ce2d800",
       "version_major": 2,
       "version_minor": 0
      },
      "text/plain": [
       "Output()"
      ]
     },
     "metadata": {},
     "output_type": "display_data"
    }
   ],
   "source": [
    "from IPython.display import display, Image, HTML\n",
    "from ipywidgets import Button, Output\n",
    "import os\n",
    "\n",
    "path = \"Si_nano_muestra_3/\"\n",
    "extetion = \".png\"\n",
    "files = []\n",
    "\n",
    "for r, d, f in os.walk(path):\n",
    "    for file in f:\n",
    "        if extetion in file:\n",
    "            files.append(r+'/'+file)\n",
    "\n",
    "# List of image file names\n",
    "image_files = files\n",
    "\n",
    "# Current image index\n",
    "current_image_index = 0\n",
    "\n",
    "# Output widget to display the image\n",
    "out = Output()\n",
    "\n",
    "# Function to update and display the current image\n",
    "def display_image():\n",
    "    with out:\n",
    "        # Clear the output area\n",
    "        out.clear_output()\n",
    "        # Get the current image file name\n",
    "        image_file = image_files[current_image_index]\n",
    "        # Display the image\n",
    "        display(Image(retina=False,filename=image_file, metadata={'Title': 'Hello'}))\n",
    "        # Add the file name to the image\n",
    "        file_name = os.path.basename(image_file)\n",
    "        # Display the text next to the image\n",
    "        text = \"<b>\" + file_name + \"</b>\"\n",
    "        #display(HTML(\"<div style='float: center; font-size: 50px;'><center><br>\" + text + \"<br>\" + text + \"<br>\" + text + \"</center></div>\"))\n",
    "\n",
    "# Button click event handlers\n",
    "def previous_image(btn):\n",
    "    global current_image_index\n",
    "    current_image_index = (current_image_index - 1) % len(image_files)\n",
    "    display_image()\n",
    "\n",
    "def next_image(btn):\n",
    "    global current_image_index\n",
    "    current_image_index = (current_image_index + 1) % len(image_files)\n",
    "    display_image()\n",
    "\n",
    "# Create buttons\n",
    "previous_button = Button(description='Previous')\n",
    "previous_button.on_click(previous_image)\n",
    "\n",
    "next_button = Button(description='Next')\n",
    "next_button.on_click(next_image)\n",
    "\n",
    "# Display buttons and output widget\n",
    "display(previous_button, next_button)\n",
    "display(out)\n",
    "\n",
    "# Display initial image\n",
    "display_image()"
   ]
  },
  {
   "cell_type": "code",
   "execution_count": null,
   "metadata": {
    "vscode": {
     "languageId": "shellscript"
    }
   },
   "outputs": [],
   "source": []
  },
  {
   "cell_type": "code",
   "execution_count": 1,
   "metadata": {},
   "outputs": [
    {
     "data": {
      "text/plain": [
       "['../raman_2/Si_nano_muestra 3_33.txt',\n",
       " '../raman_2/Si_nano_muestra 3_46.txt',\n",
       " '../raman_2/Si_nano_muestra 3_34.txt',\n",
       " '../raman_2/Si_nano_muestra 3_63.txt',\n",
       " '../raman_2/Si_nano_muestra 3_64.txt',\n",
       " '../raman_2/Si_nano_muestra 3_59.txt',\n",
       " '../raman_2/Si_nano_muestra 3_31.txt',\n",
       " '../raman_2/Si_nano_muestra 3_16.txt',\n",
       " '../raman_2/Si_nano_muestra 3_01.txt',\n",
       " '../raman_2/Si_nano_muestra 3_37.txt',\n",
       " '../raman_2/Si_nano_muestra 3_57.txt',\n",
       " '../raman_2/Si_nano_muestra 3_38.txt',\n",
       " '../raman_2/Si_nano_muestra 3_32.txt',\n",
       " '../raman_2/Si_nano_muestra 3_48.txt',\n",
       " '../raman_2/Si_nano_muestra 3_65.txt',\n",
       " '../raman_2/Si_nano_muestra 3_25.txt',\n",
       " '../raman_2/Si_nano_muestra 3_17.txt',\n",
       " '../raman_2/Si_nano_muestra 3_62.txt',\n",
       " '../raman_2/Si_nano_muestra 3_60.txt',\n",
       " '../raman_2/Si_nano_muestra 3_52.txt']"
      ]
     },
     "execution_count": 1,
     "metadata": {},
     "output_type": "execute_result"
    }
   ],
   "source": [
    "import os\n",
    "\n",
    "path = \"../raman_2\"\n",
    "extetion = \".txt\"\n",
    "files = []\n",
    "\n",
    "for r, d, f in os.walk(path):\n",
    "    for file in f:\n",
    "        if extetion in file:\n",
    "            files.append(r+'/'+file)\n",
    "\n",
    "files"
   ]
  },
  {
   "cell_type": "code",
   "execution_count": 34,
   "metadata": {},
   "outputs": [],
   "source": [
    "import matplotlib.pyplot as plt\n",
    "import numpy as np\n",
    "import os\n",
    "import re\n",
    "from scipy.signal import savgol_filter\n",
    "from scipy.optimize import curve_fit\n",
    "import numpy as np\n",
    "import matplotlib.pyplot as plt\n",
    "\n",
    "\n",
    "\n",
    "class RamanSpectrum:\n",
    "    \"\"\"\n",
    "    A Class to perform ploting, cutting spectrums in a certain range\n",
    "    denoise, baseline and multipeak fit. It needs the path of a \n",
    "    RamanSpectrum of type txt. It should be noted that the format of this txt \n",
    "    may be different for an observation made in another device. But in general the main\n",
    "    part is inside the x,y pairs so the read of another type of format can be modified to\n",
    "    provide x, and yas an np array in the initialization method.\n",
    "    \"\"\"\n",
    "\n",
    "    def __init__(self, filepath, x=None,y=None):\n",
    "        # Read in the data from the file or reading the x, y values\n",
    "\n",
    "        with open(filepath, 'r', encoding='iso-8859-1') as f:\n",
    "            lines = f.readlines()\n",
    "        \n",
    "        # Extract the metadata from the file\n",
    "        self.metadata = {}\n",
    "        # Creating an empty dictionary to store the coordinates\n",
    "        self.dictcoords = {}\n",
    "\n",
    "        for line in lines:\n",
    "            if line.startswith(\"#\"):\n",
    "                # Storing the metadata\n",
    "                key, value = line.strip().split(\"=\")\n",
    "                self.metadata[key[1:]] = value.replace('\\t', '')\n",
    "        \n",
    "        # Now that we have the metadata stored in a dictionary, we can\n",
    "        # store the value of the keys in a set of strings\n",
    "\n",
    "        self.metakeys = self.metadata.keys()\n",
    "        \n",
    "        # Extract the x and y data from the file\n",
    "        \n",
    "        self.data = np.loadtxt(lines[len(self.metadata):])\n",
    "        self.x = self.data[:,0]\n",
    "        self.y = self.data[:,1]\n",
    "\n",
    "        self.sample = self.metadata['Title'].replace(' ', '_')\n",
    "\n",
    "        # Creating a folder to store the data\n",
    "        if not os.path.exists(self.sample):\n",
    "            os.makedirs(self.sample)\n",
    "        \n",
    "        # Saving the data as an dictionary\n",
    "        for e in self.data:\n",
    "            self.dictcoords[e[0]] = e[1]\n",
    "    \n",
    "    def plot(self):\n",
    "        \"\"\"Plotting the data\"\"\"\n",
    "        plt.plot(self.x, self.y)\n",
    "        plt.xlabel(\"Wavenumber (cm$^{-1}$)\")\n",
    "        plt.ylabel(\"Intensity (counts)\")\n",
    "        plt.show()\n",
    "\n",
    "    def acces_value(self, pattern):\n",
    "        matched_keys = set()\n",
    "        regex = re.compile(pattern, re.IGNORECASE)\n",
    "        for key in self.metakeys:\n",
    "            if regex.search(key):\n",
    "                matched_keys.add(key)\n",
    "        return (matched_keys, [self.metadata[key] for key in matched_keys])\n",
    "    \n",
    "    def crop(self, lower, upper, show = False):\n",
    "        \"\"\"\n",
    "        This method crops the x and y values to only a subset of the \n",
    "        original points. It also plots the cropped data if the show\n",
    "        parameter is set to True. Always saves the cropped data as an\n",
    "        image.\n",
    "        \"\"\"\n",
    "        self.croppedx = []\n",
    "        self.croppedy = []\n",
    "        for e in self.x:\n",
    "            if e > lower and e < upper:\n",
    "                self.croppedx.append(e)\n",
    "                self.croppedy.append(self.dictcoords[e])\n",
    "        plt.plot(self.croppedx, self.croppedy)\n",
    "        plt.xlabel(\"Wavenumber (cm$^{-1}$)\")\n",
    "        plt.ylabel(\"Intensity (counts)\")\n",
    "        plt.title(self.metadata['Date'])\n",
    "        # Saving the cropped data as an image\n",
    "\n",
    "        if not os.path.exists(self.sample+'/cropped'):\n",
    "            os.makedirs(self.sample+'/cropped')\n",
    "\n",
    "        name = self.sample+\"/cropped/{i}.png\".format(i = self.metadata['Date'])\n",
    "        plt.savefig(name)\n",
    "        if show:\n",
    "            plt.show()\n",
    "        plt.clf()\n",
    "    \n",
    "    def polifit(self, a,b,ord = 3):\n",
    "        \"\"\"\n",
    "        a is the lowest value of the x pairs and b\n",
    "        is the highest value. ord is the order of the polynomial\n",
    "        to be fitted\n",
    "        \"\"\"\n",
    "        \n",
    "        x = []\n",
    "        y = []\n",
    "        for x_i, y_i in zip(self.croppedx,self.croppedy):\n",
    "            if x_i < a or x_i > b:\n",
    "                x.append(x_i)\n",
    "                y.append(y_i)\n",
    "        # Fitting the data\n",
    "        fitted = np.polyfit(x, y, ord)\n",
    "\n",
    "        # Plotting the first part\n",
    "        plt.subplot(2, 1, 1)  # Create subplot 1\n",
    "        plt.plot(self.croppedx, self.croppedy)\n",
    "        plt.plot(self.croppedx, np.polyval(fitted, self.croppedx))\n",
    "        plt.xlim(min(self.croppedx), max(self.croppedx))\n",
    "        ef = abs(max(self.croppedy) - min(self.croppedy))/20\n",
    "        plt.ylim(min(self.croppedy)-ef, max(self.croppedy)+ef)\n",
    "        plt.xlabel(\"Wavenumber (cm$^{-1}$)\")\n",
    "        plt.ylabel(\"Intensity (counts)\")\n",
    "        plt.title('With baseline')\n",
    "        # Plotting the second part\n",
    "        plt.subplot(2, 1, 2)  # Create subplot 2\n",
    "        plt.plot(self.croppedx, self.croppedy - np.polyval(fitted, self.croppedx))\n",
    "        self.polylx = self.croppedx\n",
    "        self.polyly = self.croppedy - np.polyval(fitted, self.croppedx)\n",
    "        plt.xlabel(\"Wavenumber (cm$^{-1}$)\")\n",
    "        plt.ylabel(\"Intensity (counts)\")\n",
    "        plt.title('Without baseline')\n",
    "\n",
    "        # Saving both plots in the same file\n",
    "        if not os.path.exists(self.sample+'/polyfit'):\n",
    "            os.makedirs(self.sample+'/polyfit')\n",
    "        plt.savefig(self.sample+\"/polyfit/{i}.png\".format(i=self.metadata['Date']))\n",
    "        plt.subplots_adjust(hspace=1)\n",
    "        plt.show()\n",
    "    \n",
    "    def sav_gol(self, window, order, x_arr,y_arr, show=False):\n",
    "        \"\"\"\n",
    "        Takes the x and y values and applies a Savitzky-Golay filter\n",
    "        sets self.denoisedx and self.denoisedy to the denoised values\n",
    "        \"\"\"\n",
    "        self.denoisedx = []\n",
    "        self.denoisedy = []    \n",
    "        self.savgol = savgol_filter(y_arr, window, order)\n",
    "        self.denoisedx = x_arr\n",
    "        self.denoisedy = self.savgol\n",
    "        plt.plot(self.denoisedx, self.denoisedy)\n",
    "        self.basedx = self.denoisedx\n",
    "        self.basedy = self.denoisedy\n",
    "        plt.xlabel(\"Wavenumber (cm$^{-1}$)\")\n",
    "        plt.ylabel(\"Intensity (counts)\")\n",
    "        plt.title('Denoised')\n",
    "\n",
    "        if not os.path.exists(self.sample+'/denoised'):\n",
    "            os.makedirs(self.sample+'/denoised')\n",
    "\n",
    "        # Saving the cropped data as an image\n",
    "        name = self.sample + \"/denoised/{i}.png\".format(i = self.metadata['Date'])\n",
    "        plt.savefig(name)\n",
    "        if show:\n",
    "            plt.show()\n",
    "        plt.clf()\n",
    "\n",
    "    def baseline(self,degree = 1, show = False, before=False):\n",
    "        # Fit polynomial baseline\n",
    "\n",
    "        xfit = self.denoisedx[:5] + self.denoisedx[-5:]\n",
    "        self.a = list(self.denoisedy[:5])\n",
    "        self.b = list(self.denoisedy[-5:])\n",
    "        \n",
    "        print(self.a)\n",
    "        print(self.b)\n",
    "\n",
    "        yfit = self.a + self.b\n",
    "        print(type(self.denoisedx),type(self.denoisedy))\n",
    "        print('The lenghts',len(xfit),len(yfit))\n",
    "\n",
    "        coefficients = np.polyfit(xfit, yfit, degree)\n",
    "        baseline = np.polyval(coefficients, self.denoisedx)\n",
    "\n",
    "        # Plot the original signal and the baseline\n",
    "        # plt.plot(self.denoisedx, self.denoisedy, label='Original Signal')\n",
    "        new_zero = abs(min(self.denoisedy - baseline))\n",
    "        if before:\n",
    "            plt.plot(self.denoisedx, (self.croppedy + new_zero)  , label='baselined')\n",
    "            plt.plot(self.denoisedx, baseline, label='Baseline')\n",
    "        else:\n",
    "            plt.plot(self.denoisedx, (self.denoisedy + new_zero), label='baselined')\n",
    "            plt.plot(self.denoisedx, baseline, label='Baseline')\n",
    "        self.basedx = self.denoisedx\n",
    "        self.basedy = (self.denoisedy + new_zero) - baseline\n",
    "        # plt.plot(self.denoisedx, baseline, label='Baseline')\n",
    "        plt.legend()\n",
    "        plt.xlabel('wavenumber (cm$^{-1}$)')\n",
    "        plt.ylabel('Intensity (counts)')\n",
    "\n",
    "        if not os.path.exists(self.sample+'/baseline'):\n",
    "            os.makedirs(self.sample+'/baseline')\n",
    "\n",
    "        plt.title(self.metadata['Date'] + ' - Baseline')\n",
    "        if show:\n",
    "            plt.show()\n",
    "        name = self.sample + \"/baseline/{i}.png\".format(i = self.metadata['Date'])\n",
    "        plt.savefig(name)\n",
    "        plt.clf()\n",
    "    \n",
    "\n",
    "    # Define the function as the sum of three Gaussian curves\n",
    "    def gaussian(self, x, amplitude, center, sigma):\n",
    "        return amplitude * np.exp(-(x - center)**2 / (2 * sigma**2))\n",
    "\n",
    "    def multi_peak_fit(self, x, *params):\n",
    "        num_peaks = len(params) // 3\n",
    "        y_fit = np.zeros_like(x)\n",
    "        for i in range(num_peaks):\n",
    "            amplitude, center, sigma = params[i*3 : (i+1)*3]\n",
    "            y_fit += self.gaussian(x, amplitude, center, sigma)\n",
    "        return y_fit\n",
    "    \n",
    "    def get_fitting(self, f2 = 0.5, f3 = 0.3 , c1 = 520, c2 = 500, c3 = 480, s1 = 10, s2 = 20, s3 = 40 ,show = False):\n",
    "        x = np.array(self.basedx)\n",
    "        y = np.array(self.basedy)\n",
    "\n",
    "        yspec = max(y)\n",
    "        yspec2 = yspec*f2\n",
    "        yspec3 = yspec*f3\n",
    "\n",
    "        # Perform the multi-peak fitting\n",
    "        # initial_guess = [yspec3, 450, 100, yspec2, 510, 10, yspec, 520, 10]\n",
    "        initial_guess = [yspec3, c3, s3, yspec2, c2, s2, yspec, c1, s1]   # Initial guess for parameters: [amplitude1, center1, sigma1, amplitude2, center2, sigma2, amplitude3, center3, sigma3]\n",
    "        \n",
    "        if not os.path.exists(self.sample+'/fit'):\n",
    "                os.makedirs(self.sample+'/fit')\n",
    "\n",
    "        popt, pcov = curve_fit(self.multi_peak_fit, x, y, p0=initial_guess)\n",
    "\n",
    "        # Extract the optimized parameters\n",
    "        amplitudes = popt[0::3]\n",
    "        centers = popt[1::3]\n",
    "        sigmas = popt[2::3]\n",
    "\n",
    "        # Print the results\n",
    "\n",
    "        print('Amplitudes: {}'.format(amplitudes))\n",
    "        print('Centers: {}'.format(centers))\n",
    "        print('Sigmas: {}'.format(sigmas))\n",
    "\n",
    "        # Generate the fitted curve\n",
    "        x_fit = np.linspace(x.min(), x.max(), 1000)\n",
    "        y_fit = self.multi_peak_fit(x_fit, *popt)\n",
    "        # Plot the original data and the fitted curve\n",
    "        plt.plot(x, y, 'bo', label='Original Data')\n",
    "        plt.plot(x_fit, y_fit, 'r-', label='Fitted Curve')\n",
    "        plt.legend()\n",
    "        plt.xlabel('wavenumber (cm$^{-1}$)')\n",
    "        plt.ylabel('Counts (a.u.)')\n",
    "        if show:\n",
    "            plt.show()\n",
    "        plt.savefig(self.sample+'/fit/{}.png'.format(self.metadata['Date']))\n",
    "        self.popt = popt\n",
    "        plt.clf()\n",
    "\n",
    "\n",
    "\n",
    "\n",
    "    # def get_fitting(self, x_,y_, f2 = 0.5, f3 = 0.3 , c1 = 520, c2 = 500, c3 = 480, s1 = 10, s2 = 20, s3 = 40 ,show = False):\n",
    "    #     \"\"\"\n",
    "    #     A multi-peak fitting function that takes the x and y values and fits them to a multi-peak function\n",
    "    #     \"\"\"\n",
    "    #     x = np.array(x_)\n",
    "    #     y = np.array(y_ + abs(min(y_)))\n",
    "\n",
    "    #     yspec = max(y)\n",
    "    #     yspec2 = yspec*f2\n",
    "    #     yspec3 = yspec*f3\n",
    "\n",
    "    #     # Perform the multi-peak fitting\n",
    "    #     # initial_guess = [yspec3, 450, 100, yspec2, 510, 10, yspec, 520, 10]\n",
    "    #     initial_guess = [yspec3, c3, s3, yspec2, c2, s2, yspec, c1, s1]   # Initial guess for parameters: [amplitude1, center1, sigma1, amplitude2, center2, sigma2, amplitude3, center3, sigma3]\n",
    "        \n",
    "    #     if not os.path.exists(self.sample):\n",
    "    #         os.makedirs(self.sample+'/fit')\n",
    "        \n",
    "    #     amplitudes = popt[0::3]\n",
    "    #     centers = popt[1::3]\n",
    "    #     sigmas = popt[2::3]\n",
    "\n",
    "    #     # Print the results\n",
    "\n",
    "    #     print('Amplitudes: {}'.format(amplitudes))\n",
    "    #     print('Centers: {}'.format(centers))\n",
    "    #     print('Sigmas: {}'.format(sigmas))\n",
    "\n",
    "    #     # Generate the fitted curve\n",
    "    #     x_fit = np.linspace(x.min(), x.max(), 1000)\n",
    "    #     y_fit = self.multi_peak_fit(x_fit, *popt)\n",
    "    #     # Plot the original data and the fitted curve\n",
    "    #     plt.plot(x, y, 'bo', label='Original Data')\n",
    "    #     plt.plot(x_fit, y_fit, 'r-', label='Fitted Curve')\n",
    "    #     plt.legend()\n",
    "    #     plt.xlabel('x')\n",
    "    #     plt.ylabel('y')\n",
    "    #     if show:\n",
    "    #         plt.show()\n",
    "    #     plt.savefig(self.sample+'/fit/{}.png'.format(self.metadata['Date']))\n",
    "    #     plt.clf()\n",
    "\n"
   ]
  },
  {
   "cell_type": "code",
   "execution_count": 35,
   "metadata": {},
   "outputs": [
    {
     "data": {
      "image/png": "[encoded data removed]",
      "text/plain": [
       "<Figure size 432x288 with 2 Axes>"
      ]
     },
     "metadata": {},
     "output_type": "display_data"
    },
    {
     "data": {
      "image/png": "[encoded data removed]",
      "text/plain": [
       "<Figure size 432x288 with 1 Axes>"
      ]
     },
     "metadata": {},
     "output_type": "display_data"
    },
    {
     "data": {
      "text/plain": [
       "<Figure size 432x288 with 0 Axes>"
      ]
     },
     "metadata": {},
     "output_type": "display_data"
    }
   ],
   "source": [
    "i = 3\n",
    "sp0 = RamanSpectrum(files[i])\n",
    "sp0.crop(lower=350, upper=600)\n",
    "sp0.polifit(a=400, b = 550, ord = 2)\n",
    "sp0.sav_gol(10,2,sp0.polylx,sp0.polyly,show=True)"
   ]
  },
  {
   "cell_type": "code",
   "execution_count": 36,
   "metadata": {},
   "outputs": [
    {
     "name": "stdout",
     "output_type": "stream",
     "text": [
      "Amplitudes: [ 547.74475468  927.69929139 1113.27461134]\n",
      "Centers: [448.55565924 501.58422005 517.09911688]\n",
      "Sigmas: [24.77897379 18.89281035  4.70271333]\n"
     ]
    },
    {
     "data": {
      "image/png": "[encoded data removed]",
      "text/plain": [
       "<Figure size 432x288 with 1 Axes>"
      ]
     },
     "metadata": {},
     "output_type": "display_data"
    },
    {
     "data": {
      "text/plain": [
       "<Figure size 432x288 with 0 Axes>"
      ]
     },
     "metadata": {},
     "output_type": "display_data"
    }
   ],
   "source": [
    "sp0.get_fitting(f2 = 0.7, f3 = 0.3 , c1 = 515, c2 = 500, c3 = 410, s1 = 10, s2 = 20, s3 = 70 ,show = True)"
   ]
  },
  {
   "cell_type": "code",
   "execution_count": 39,
   "metadata": {},
   "outputs": [],
   "source": [
    "pop = sp0.popt"
   ]
  },
  {
   "cell_type": "code",
   "execution_count": 44,
   "metadata": {},
   "outputs": [
    {
     "data": {
      "text/plain": [
       "array([ 547.74475468,  448.55565924,   24.77897379,  927.69929139,\n",
       "        501.58422005,   18.89281035, 1113.27461134,  517.09911688,\n",
       "          4.70271333])"
      ]
     },
     "execution_count": 44,
     "metadata": {},
     "output_type": "execute_result"
    }
   ],
   "source": [
    "pop"
   ]
  },
  {
   "cell_type": "code",
   "execution_count": 64,
   "metadata": {},
   "outputs": [
    {
     "data": {
      "text/plain": [
       "[<matplotlib.lines.Line2D at 0x7f2829a05a20>]"
      ]
     },
     "execution_count": 64,
     "metadata": {},
     "output_type": "execute_result"
    },
    {
     "data": {
      "image/png": "[encoded data removed]",
      "text/plain": [
       "<Figure size 432x288 with 1 Axes>"
      ]
     },
     "metadata": {},
     "output_type": "display_data"
    }
   ],
   "source": [
    "s1 = pop[0:3]\n",
    "s2 = pop[3:6]\n",
    "s3 = pop[6:9]\n",
    "\n",
    "x = np.linspace(350,600, 250)\n",
    "\n",
    "def gaussian(x, amplitude, center, sigma):\n",
    "    return amplitude * np.exp(-(x - center)**2 / (2 * sigma**2))\n",
    "g = []\n",
    "\n",
    "for s in [s1,s2,s3]:\n",
    "    g.append(gaussian(x,s[0],s[1],s[2]))\n",
    "\n",
    "plt.plot(x,g[0])\n",
    "plt.plot(x,g[1])\n",
    "plt.plot(x,g[2])"
   ]
  },
  {
   "cell_type": "code",
   "execution_count": null,
   "metadata": {},
   "outputs": [],
   "source": []
  },
  {
   "cell_type": "code",
   "execution_count": null,
   "metadata": {},
   "outputs": [],
   "source": []
  },
  {
   "cell_type": "code",
   "execution_count": null,
   "metadata": {},
   "outputs": [],
   "source": []
  },
  {
   "cell_type": "code",
   "execution_count": null,
   "metadata": {},
   "outputs": [],
   "source": []
  },
  {
   "cell_type": "code",
   "execution_count": 12,
   "metadata": {},
   "outputs": [
    {
     "ename": "RuntimeError",
     "evalue": "Optimal parameters not found: Number of calls to function has reached maxfev = 1000.",
     "output_type": "error",
     "traceback": [
      "\u001b[0;31m---------------------------------------------------------------------------\u001b[0m",
      "\u001b[0;31mRuntimeError\u001b[0m                              Traceback (most recent call last)",
      "Cell \u001b[0;32mIn[12], line 37\u001b[0m\n\u001b[1;32m     34\u001b[0m     \u001b[39mprint\u001b[39m(\u001b[39m'\u001b[39m\u001b[39mOptimized Gamma = \u001b[39m\u001b[39m'\u001b[39m, popt[\u001b[39m3\u001b[39m])\n\u001b[1;32m     35\u001b[0m     plt\u001b[39m.\u001b[39mshow()\n\u001b[0;32m---> 37\u001b[0m plot_fit(nx, ny)\n",
      "Cell \u001b[0;32mIn[12], line 22\u001b[0m, in \u001b[0;36mplot_fit\u001b[0;34m(xdata, ydata)\u001b[0m\n\u001b[1;32m     21\u001b[0m \u001b[39mdef\u001b[39;00m \u001b[39mplot_fit\u001b[39m(xdata, ydata):\n\u001b[0;32m---> 22\u001b[0m     popt, pcov \u001b[39m=\u001b[39m curve_fit(voigt, xdata, ydata, p0\u001b[39m=\u001b[39;49m[amplitude, center, sigma, gamma])\n\u001b[1;32m     24\u001b[0m     \u001b[39m# Plot the data and the fit\u001b[39;00m\n\u001b[1;32m     25\u001b[0m     plt\u001b[39m.\u001b[39mplot(xdata, ydata, \u001b[39m'\u001b[39m\u001b[39mb-\u001b[39m\u001b[39m'\u001b[39m, label\u001b[39m=\u001b[39m\u001b[39m'\u001b[39m\u001b[39mdata\u001b[39m\u001b[39m'\u001b[39m)\n",
      "File \u001b[0;32m~/.local/lib/python3.10/site-packages/scipy/optimize/_minpack_py.py:864\u001b[0m, in \u001b[0;36mcurve_fit\u001b[0;34m(f, xdata, ydata, p0, sigma, absolute_sigma, check_finite, bounds, method, jac, full_output, **kwargs)\u001b[0m\n\u001b[1;32m    862\u001b[0m     cost \u001b[39m=\u001b[39m np\u001b[39m.\u001b[39msum(infodict[\u001b[39m'\u001b[39m\u001b[39mfvec\u001b[39m\u001b[39m'\u001b[39m] \u001b[39m*\u001b[39m\u001b[39m*\u001b[39m \u001b[39m2\u001b[39m)\n\u001b[1;32m    863\u001b[0m     \u001b[39mif\u001b[39;00m ier \u001b[39mnot\u001b[39;00m \u001b[39min\u001b[39;00m [\u001b[39m1\u001b[39m, \u001b[39m2\u001b[39m, \u001b[39m3\u001b[39m, \u001b[39m4\u001b[39m]:\n\u001b[0;32m--> 864\u001b[0m         \u001b[39mraise\u001b[39;00m \u001b[39mRuntimeError\u001b[39;00m(\u001b[39m\"\u001b[39m\u001b[39mOptimal parameters not found: \u001b[39m\u001b[39m\"\u001b[39m \u001b[39m+\u001b[39m errmsg)\n\u001b[1;32m    865\u001b[0m \u001b[39melse\u001b[39;00m:\n\u001b[1;32m    866\u001b[0m     \u001b[39m# Rename maxfev (leastsq) to max_nfev (least_squares), if specified.\u001b[39;00m\n\u001b[1;32m    867\u001b[0m     \u001b[39mif\u001b[39;00m \u001b[39m'\u001b[39m\u001b[39mmax_nfev\u001b[39m\u001b[39m'\u001b[39m \u001b[39mnot\u001b[39;00m \u001b[39min\u001b[39;00m kwargs:\n",
      "\u001b[0;31mRuntimeError\u001b[0m: Optimal parameters not found: Number of calls to function has reached maxfev = 1000."
     ]
    }
   ],
   "source": [
    "# We use gx and gy to fit this to a voigt profile\n",
    "# Importing the wofz function from scipy.special\n",
    "\n",
    "from scipy.special import wofz\n",
    "\n",
    "def voigt(x, amp, cen, sig, gam):\n",
    "    return amp * np.real(wofz(((x-cen) + 1j*gam)/sig/np.sqrt(2))) / sig / np.sqrt(2*np.pi)\n",
    "\n",
    "# We need to define the initial guess for the parameters\n",
    "center= 518\n",
    "sigma = 30\n",
    "gamma = -60\n",
    "amplitude = 2000\n",
    "\n",
    "# Now we can fit the data minimizing the difference between the actual data and the model using the curve_fit function from scipy.optimize\n",
    "\n",
    "from scipy.optimize import curve_fit\n",
    "\n",
    "# Using the initial parameters we defined above, we can fit the data\n",
    "\n",
    "def plot_fit(xdata, ydata):\n",
    "    popt, pcov = curve_fit(voigt, xdata, ydata, p0=[amplitude, center, sigma, gamma])\n",
    "\n",
    "    # Plot the data and the fit\n",
    "    plt.plot(xdata, ydata, 'b-', label='data')\n",
    "    plt.plot(xdata, voigt(xdata, *popt), 'r-', label='fit')\n",
    "    plt.legend()\n",
    "    plt.xlabel('x')\n",
    "    plt.ylabel('y')\n",
    "    # Print the optimized parameters\n",
    "    print('Optimized Amplitude = ', popt[0])\n",
    "    print('Optimized Center = ', popt[1])\n",
    "    print('Optimized Sigma = ', popt[2])\n",
    "    print('Optimized Gamma = ', popt[3])\n",
    "    plt.show()\n",
    "\n",
    "plot_fit(nx, ny)"
   ]
  },
  {
   "cell_type": "code",
   "execution_count": 9,
   "metadata": {},
   "outputs": [
    {
     "data": {
      "application/vnd.jupyter.widget-view+json": {
       "model_id": "95737bd8418541cfa229d7c556039af0",
       "version_major": 2,
       "version_minor": 0
      },
      "text/plain": [
       "interactive(children=(FloatSlider(value=1.0, description='Amplitude:', max=10.0, min=0.1), FloatSlider(value=0…"
      ]
     },
     "metadata": {},
     "output_type": "display_data"
    }
   ],
   "source": [
    "import numpy as np\n",
    "import matplotlib.pyplot as plt\n",
    "from scipy.special import wofz\n",
    "import ipywidgets as widgets\n",
    "from IPython.display import display\n",
    "\n",
    "def voigt(x, amp, cen, sig, gam):\n",
    "    return amp * np.real(wofz(((x - cen) + 1j * gam) / sig / np.sqrt(2))) / sig / np.sqrt(2 * np.pi)\n",
    "\n",
    "# Define the x-axis range\n",
    "x = np.linspace(-100, 100, 10000)\n",
    "\n",
    "# Create initial values for the parameters\n",
    "initial_amp = 1.0\n",
    "initial_cen = 0.0\n",
    "initial_sig = 1.0\n",
    "initial_gam = 1.0\n",
    "\n",
    "# Create sliders for each parameter\n",
    "amp_slider = widgets.FloatSlider(value=initial_amp, min=0.1, max=10.0, step=0.1, description='Amplitude:')\n",
    "cen_slider = widgets.FloatSlider(value=initial_cen, min=-5.0, max=5.0, step=0.1, description='Center:')\n",
    "sig_slider = widgets.FloatSlider(value=initial_sig, min=1.0, max=50.0, step=1.0, description='Sigma:')\n",
    "gam_slider = widgets.FloatSlider(value=initial_gam, min=1.0, max=50.0, step=1.0, description='Gamma:')\n",
    "\n",
    "# Define the update function\n",
    "def update_plot(amp, cen, sig, gam):\n",
    "    y = voigt(x, amp, cen, sig, gam)\n",
    "    plt.plot(x, y)\n",
    "    plt.xlabel('x')\n",
    "    plt.ylabel('y')\n",
    "    plt.title('Voigt Curve')\n",
    "    plt.ylim(0, np.max(y) + 0.5)\n",
    "    plt.show()\n",
    "\n",
    "# Create the interactive plot\n",
    "interactive_plot = widgets.interactive(update_plot, amp=amp_slider, cen=cen_slider, sig=sig_slider, gam=gam_slider)\n",
    "\n",
    "# Display the interactive plot\n",
    "display(interactive_plot)\n"
   ]
  },
  {
   "cell_type": "code",
   "execution_count": null,
   "metadata": {},
   "outputs": [],
   "source": []
  }
 ],
 "metadata": {
  "kernelspec": {
   "display_name": "Python 3",
   "language": "python",
   "name": "python3"
  },
  "language_info": {
   "codemirror_mode": {
    "name": "ipython",
    "version": 3
   },
   "file_extension": ".py",
   "mimetype": "text/x-python",
   "name": "python",
   "nbconvert_exporter": "python",
   "pygments_lexer": "ipython3",
   "version": "3.10.10"
  },
  "orig_nbformat": 4
 },
 "nbformat": 4,
 "nbformat_minor": 2
}
