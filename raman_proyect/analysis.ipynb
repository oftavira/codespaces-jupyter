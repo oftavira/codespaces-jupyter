{
 "cells": [
  {
   "cell_type": "code",
   "execution_count": 1,
   "metadata": {},
   "outputs": [],
   "source": [
    "import matplotlib.pyplot as plt\n",
    "import numpy as np\n",
    "import os\n",
    "\n",
    "\n",
    "class RamanSpectrum:\n",
    "    def __init__(self, filepath):\n",
    "        # Read in the data from the file\n",
    "        with open(filepath, 'r', encoding='iso-8859-1') as f:\n",
    "            lines = f.readlines()\n",
    "        \n",
    "        # Extract the metadata from the file\n",
    "        metadata = {}\n",
    "        for line in lines:\n",
    "        \n",
    "            if line.startswith(\"#\"):\n",
    "                # Storing the metadata\n",
    "                key, value = line.strip().split(\"=\")\n",
    "                metadata[key[1:]] = value\n",
    "        \n",
    "        # Extract the x and y data from the file\n",
    "        data = np.loadtxt(lines[len(metadata):])\n",
    "        self.x = data[:,0]\n",
    "        self.y = data[:,1]\n",
    "        \n",
    "        # Store the metadata as object attributes\n",
    "        self.metadata = metadata\n",
    "    \n",
    "    def plot(self):\n",
    "        plt.plot(self.x, self.y)\n",
    "        plt.xlabel(\"Wavenumber (cm$^{-1}$)\")\n",
    "        plt.ylabel(\"Intensity (counts)\")\n",
    "        plt.show()"
   ]
  },
  {
   "cell_type": "code",
   "execution_count": null,
   "metadata": {},
   "outputs": [],
   "source": []
  },
  {
   "cell_type": "code",
   "execution_count": 2,
   "metadata": {},
   "outputs": [
    {
     "name": "stdout",
     "output_type": "stream",
     "text": [
      "['../raman_2//Si_nano_muestra 3_25.txt', '../raman_2//Si_nano_muestra 3_16.txt', '../raman_2//Si_nano_muestra 3_63.txt', '../raman_2//Si_nano_muestra 3_01.txt', '../raman_2//Si_nano_muestra 3_64.txt', '../raman_2//Si_nano_muestra 3_31.txt', '../raman_2//Si_nano_muestra 3_46.txt', '../raman_2//Si_nano_muestra 3_59.txt', '../raman_2//Si_nano_muestra 3_57.txt', '../raman_2//Si_nano_muestra 3_38.txt', '../raman_2//Si_nano_muestra 3_62.txt', '../raman_2//Si_nano_muestra 3_48.txt', '../raman_2//Si_nano_muestra 3_37.txt', '../raman_2//Si_nano_muestra 3_34.txt', '../raman_2//Si_nano_muestra 3_33.txt', '../raman_2//Si_nano_muestra 3_17.txt', '../raman_2//Si_nano_muestra 3_65.txt', '../raman_2//Si_nano_muestra 3_52.txt', '../raman_2//Si_nano_muestra 3_32.txt', '../raman_2//Si_nano_muestra 3_60.txt']\n"
     ]
    }
   ],
   "source": [
    "path = \"../raman_2/\"\n",
    "files = []\n",
    "\n",
    "for r, d, f in os.walk(path):\n",
    "    for file in f:\n",
    "        if '.txt' in file:\n",
    "            files.append(r+'/'+file)\n",
    "\n",
    "print(files)"
   ]
  },
  {
   "cell_type": "code",
   "execution_count": null,
   "metadata": {},
   "outputs": [],
   "source": []
  },
  {
   "cell_type": "code",
   "execution_count": 3,
   "metadata": {},
   "outputs": [
    {
     "data": {
      "application/vnd.jupyter.widget-view+json": {
       "model_id": "e2f8a1f60b04438f943ab54d087c235b",
       "version_major": 2,
       "version_minor": 0
      },
      "text/plain": [
       "interactive(children=(Dropdown(description='function', options=('function1', 'function2', 'function3'), value=…"
      ]
     },
     "metadata": {},
     "output_type": "display_data"
    }
   ],
   "source": [
    "import numpy as np\n",
    "import matplotlib.pyplot as plt\n",
    "from ipywidgets import interact, Dropdown\n",
    "\n",
    "# Define the three functions\n",
    "def function1(x):\n",
    "    return np.sin(x)\n",
    "\n",
    "def function2(x):\n",
    "    return np.cos(x)\n",
    "\n",
    "def function3(x):\n",
    "    return np.tan(x)\n",
    "\n",
    "# Create the interactive plot\n",
    "@interact\n",
    "def plot_function(function=Dropdown(options=['function1', 'function2', 'function3'])):\n",
    "    x = np.linspace(1, 100, 100)  # Generate x values\n",
    "    y = globals()[function](x)  # Evaluate the selected function\n",
    "    \n",
    "    plt.plot(x, y)  # Plot the function\n",
    "    plt.xlabel('x')\n",
    "    plt.ylabel('y')\n",
    "    plt.title(function)\n",
    "    plt.show()"
   ]
  },
  {
   "cell_type": "code",
   "execution_count": null,
   "metadata": {},
   "outputs": [],
   "source": []
  },
  {
   "cell_type": "code",
   "execution_count": 4,
   "metadata": {},
   "outputs": [
    {
     "data": {
      "text/plain": [
       "['../raman_2//Si_nano_muestra 3_25.txt',\n",
       " '../raman_2//Si_nano_muestra 3_16.txt',\n",
       " '../raman_2//Si_nano_muestra 3_63.txt',\n",
       " '../raman_2//Si_nano_muestra 3_01.txt',\n",
       " '../raman_2//Si_nano_muestra 3_64.txt',\n",
       " '../raman_2//Si_nano_muestra 3_31.txt',\n",
       " '../raman_2//Si_nano_muestra 3_46.txt',\n",
       " '../raman_2//Si_nano_muestra 3_59.txt',\n",
       " '../raman_2//Si_nano_muestra 3_57.txt',\n",
       " '../raman_2//Si_nano_muestra 3_38.txt',\n",
       " '../raman_2//Si_nano_muestra 3_62.txt',\n",
       " '../raman_2//Si_nano_muestra 3_48.txt',\n",
       " '../raman_2//Si_nano_muestra 3_37.txt',\n",
       " '../raman_2//Si_nano_muestra 3_34.txt',\n",
       " '../raman_2//Si_nano_muestra 3_33.txt',\n",
       " '../raman_2//Si_nano_muestra 3_17.txt',\n",
       " '../raman_2//Si_nano_muestra 3_65.txt',\n",
       " '../raman_2//Si_nano_muestra 3_52.txt',\n",
       " '../raman_2//Si_nano_muestra 3_32.txt',\n",
       " '../raman_2//Si_nano_muestra 3_60.txt']"
      ]
     },
     "execution_count": 4,
     "metadata": {},
     "output_type": "execute_result"
    }
   ],
   "source": [
    "files"
   ]
  },
  {
   "cell_type": "code",
   "execution_count": 5,
   "metadata": {},
   "outputs": [
    {
     "data": {
      "application/vnd.jupyter.widget-view+json": {
       "model_id": "46ae2b2886d34bc2917595e36816f967",
       "version_major": 2,
       "version_minor": 0
      },
      "text/plain": [
       "interactive(children=(Dropdown(description='function', options=('../raman_2//Si_nano_muestra 3_25.txt', '../ra…"
      ]
     },
     "metadata": {},
     "output_type": "display_data"
    },
    {
     "data": {
      "text/plain": [
       "<function __main__.plot_function(function)>"
      ]
     },
     "metadata": {},
     "output_type": "display_data"
    }
   ],
   "source": [
    "import numpy as np\n",
    "import matplotlib.pyplot as plt\n",
    "import ipywidgets as widgets\n",
    "from IPython.display import display\n",
    "\n",
    "\n",
    "# Create interactive plot\n",
    "@widgets.interact(function=files)\n",
    "def plot_function(function):\n",
    "    plt.figure(figsize=(8, 6))\n",
    "    \n",
    "    print(type(files))\n",
    "    \n",
    "    plt.xlabel('x')\n",
    "    plt.ylabel('y')\n",
    "    plt.title(function)\n",
    "    plt.legend()\n",
    "    plt.grid(True)\n",
    "    plt.show()\n",
    "\n",
    "# Display the interactive plot\n",
    "display(plot_function)"
   ]
  },
  {
   "cell_type": "code",
   "execution_count": null,
   "metadata": {},
   "outputs": [],
   "source": []
  },
  {
   "cell_type": "code",
   "execution_count": null,
   "metadata": {},
   "outputs": [],
   "source": []
  },
  {
   "cell_type": "code",
   "execution_count": null,
   "metadata": {},
   "outputs": [],
   "source": []
  },
  {
   "cell_type": "code",
   "execution_count": 10,
   "metadata": {},
   "outputs": [
    {
     "data": {
      "application/vnd.jupyter.widget-view+json": {
       "model_id": "4646968ecb0a42d5b94aa0b81d5aa249",
       "version_major": 2,
       "version_minor": 0
      },
      "text/plain": [
       "interactive(children=(Dropdown(description='function', options=('Function 1', 'Function 2', 'Function 3'), val…"
      ]
     },
     "metadata": {},
     "output_type": "display_data"
    },
    {
     "data": {
      "text/plain": [
       "<function __main__.plot_function(function, amplitude)>"
      ]
     },
     "metadata": {},
     "output_type": "display_data"
    }
   ],
   "source": [
    "import numpy as np\n",
    "import matplotlib.pyplot as plt\n",
    "import ipywidgets as widgets\n",
    "from IPython.display import display\n",
    "\n",
    "# Generate functions\n",
    "def function1(x, amplitude):\n",
    "    return amplitude * x ** 2\n",
    "\n",
    "def function2(x, amplitude):\n",
    "    return amplitude * np.sin(x)\n",
    "\n",
    "def function3(x, amplitude):\n",
    "    return amplitude * np.exp(x)\n",
    "\n",
    "# Create x values\n",
    "x = np.linspace(1, 100, 100)\n",
    "\n",
    "# Dropdown menu options\n",
    "function_names = ['Function 1', 'Function 2', 'Function 3']\n",
    "\n",
    "# Create interactive plot\n",
    "@widgets.interact(function=function_names, amplitude=(0.1, 10.0, 0.1))\n",
    "def plot_function(function, amplitude):\n",
    "    plt.figure(figsize=(8, 6))\n",
    "    \n",
    "    if function == 'Function 1':\n",
    "        y = function1(x, amplitude)\n",
    "        plt.plot(x, y, label='Function 1')\n",
    "    elif function == 'Function 2':\n",
    "        y = function2(x, amplitude)\n",
    "        plt.plot(x, y, label='Function 2')\n",
    "    elif function == 'Function 3':\n",
    "        y = function3(x, amplitude)\n",
    "        plt.plot(x, y, label='Function 3')\n",
    "    \n",
    "    plt.xlabel('x')\n",
    "    plt.ylabel('y')\n",
    "    plt.title(function)\n",
    "    plt.legend()\n",
    "    plt.grid(True)\n",
    "    plt.show()\n",
    "\n",
    "# Display the interactive plot\n",
    "display(plot_function)\n"
   ]
  },
  {
   "cell_type": "code",
   "execution_count": null,
   "metadata": {},
   "outputs": [],
   "source": []
  },
  {
   "cell_type": "code",
   "execution_count": null,
   "metadata": {},
   "outputs": [],
   "source": []
  }
 ],
 "metadata": {
  "kernelspec": {
   "display_name": "Python 3",
   "language": "python",
   "name": "python3"
  },
  "language_info": {
   "codemirror_mode": {
    "name": "ipython",
    "version": 3
   },
   "file_extension": ".py",
   "mimetype": "text/x-python",
   "name": "python",
   "nbconvert_exporter": "python",
   "pygments_lexer": "ipython3",
   "version": "3.10.4"
  },
  "orig_nbformat": 4
 },
 "nbformat": 4,
 "nbformat_minor": 2
}
