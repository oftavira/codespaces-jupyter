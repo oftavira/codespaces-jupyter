{
 "cells": [
  {
   "cell_type": "code",
   "execution_count": 1,
   "metadata": {},
   "outputs": [],
   "source": [
    "import matplotlib.pyplot as plt\n",
    "import numpy as np\n",
    "\n",
    "class RamanSpectrum:\n",
    "    def __init__(self, filepath):\n",
    "        # Read in the data from the file\n",
    "        with open(filepath, 'r', encoding='iso-8859-1') as f:\n",
    "            lines = f.readlines()\n",
    "        \n",
    "        # Extract the metadata from the file\n",
    "        metadata = {}\n",
    "        for line in lines:\n",
    "            if line.startswith(\"#\"):\n",
    "                key, value = line.strip().split(\"=\")\n",
    "                metadata[key[1:]] = value\n",
    "        \n",
    "        # Extract the x and y data from the file\n",
    "        data = np.loadtxt(lines[len(metadata):])\n",
    "        self.x = data[:,0]\n",
    "        self.y = data[:,1]\n",
    "        \n",
    "        # Store the metadata as object attributes\n",
    "        self.metadata = metadata\n",
    "    \n",
    "    def plot(self):\n",
    "        plt.plot(self.x, self.y)\n",
    "        plt.xlabel(\"Wavenumber (cm$^{-1}$)\")\n",
    "        plt.ylabel(\"Intensity (counts)\")\n",
    "        plt.show()\n",
    "    \n",
    "    def denoise(self, window_size=5, threshold=0.1):\n",
    "        # Apply a rolling mean filter to the data\n",
    "        rolling_mean = np.convolve(self.y, np.ones(window_size)/window_size, mode='valid')\n",
    "        \n",
    "        # Find the indices where the difference between the original data and the filtered data exceeds the threshold\n",
    "        diff = np.abs(self.y[window_size//2:-window_size//2] - rolling_mean)\n",
    "        noise_indices = np.where(diff > threshold)[0] + window_size//2\n",
    "        \n",
    "        # Remove the noisy points from the data\n",
    "        new_x = np.delete(self.x, noise_indices)\n",
    "        new_y = np.delete(self.y, noise_indices)\n",
    "        \n",
    "        return new_x, new_y"
   ]
  },
  {
   "cell_type": "code",
   "execution_count": 2,
   "metadata": {},
   "outputs": [
    {
     "name": "stdout",
     "output_type": "stream",
     "text": [
      "['Si_nano_muestra 3_33.txt', 'Si_nano_muestra 3_46.txt', 'Si_nano_muestra 3_34.txt', 'Si_nano_muestra 3_63.txt', 'Si_nano_muestra 3_64.txt', 'Si_nano_muestra 3_59.txt', 'Si_nano_muestra 3_31.txt', 'Si_nano_muestra 3_16.txt', 'Si_nano_muestra 3_01.txt', 'Si_nano_muestra 3_37.txt', 'Si_nano_muestra 3_57.txt', 'Si_nano_muestra 3_38.txt', 'Si_nano_muestra 3_32.txt', 'Si_nano_muestra 3_48.txt', 'Si_nano_muestra 3_65.txt', 'Si_nano_muestra 3_25.txt', 'Si_nano_muestra 3_17.txt', 'Si_nano_muestra 3_62.txt', 'Si_nano_muestra 3_60.txt', 'Si_nano_muestra 3_52.txt']\n"
     ]
    }
   ],
   "source": [
    "import os\n",
    "\n",
    "path = \"raman_2/\"\n",
    "files = []\n",
    "\n",
    "for r, d, f in os.walk(path):\n",
    "    for file in f:\n",
    "        files.append(file)\n",
    "\n",
    "print(files)"
   ]
  },
  {
   "cell_type": "code",
   "execution_count": 11,
   "metadata": {},
   "outputs": [],
   "source": [
    "spec = RamanSpectrum(\"raman_2/\"+files[3])"
   ]
  },
  {
   "cell_type": "code",
   "execution_count": 12,
   "metadata": {},
   "outputs": [
    {
     "data": {
      "image/png": "[encoded data removed]",
      "text/plain": [
       "<Figure size 432x288 with 1 Axes>"
      ]
     },
     "metadata": {},
     "output_type": "display_data"
    }
   ],
   "source": [
    "x = spec.x\n",
    "y = spec.y\n",
    "\n",
    "import numpy as np\n",
    "import matplotlib.pyplot as plt\n",
    "from scipy.signal import savgol_filter, wiener, medfilt\n",
    "\n",
    "# Denoise the signal using three different methods\n",
    "y_savgol = savgol_filter(y, window_length=8, polyorder=4)\n",
    "y_wiener = wiener(y)\n",
    "y_medfilt = medfilt(y)\n",
    "\n",
    "# Plot the original and denoised signals\n",
    "plt.plot(x, y, label='Original')\n",
    "plt.plot(x, y_savgol, label='Savitzky-Golay')\n",
    "plt.plot(x, y_wiener, label='Wiener')\n",
    "plt.plot(x, y_medfilt, label='Median Filter')\n",
    "plt.legend()\n",
    "plt.xlabel('Raman Shift (cm$^{-1}$)')\n",
    "plt.ylabel('Intensity (counts)')\n",
    "plt.show()"
   ]
  },
  {
   "cell_type": "code",
   "execution_count": 13,
   "metadata": {},
   "outputs": [
    {
     "data": {
      "application/vnd.jupyter.widget-view+json": {
       "model_id": "de02861ecb4840c5915ac64ecaef32e6",
       "version_major": 2,
       "version_minor": 0
      },
      "text/plain": [
       "VBox(children=(FloatRangeSlider(value=(100.741, 999.321), continuous_update=False, description='X range:', max…"
      ]
     },
     "metadata": {},
     "output_type": "display_data"
    }
   ],
   "source": [
    "import matplotlib.pyplot as plt\n",
    "import ipywidgets as widgets\n",
    "from IPython.display import display\n",
    "\n",
    "x1, x2 = x.min(), x.max()\n",
    "y1, y2 = y.min(), y.max()\n",
    "\n",
    "\n",
    "def plot_functions(x_range, y_range):\n",
    "    plt.plot(x,y, color = 'yellow', label = 'Original')\n",
    "    plt.plot(x, y_savgol, color='red', label='Savitzky-Golay')\n",
    "    plt.plot(x, y_medfilt, color='green', label='Median Filter')\n",
    "    plt.plot(x, y_wiener, color='blue', label='Wiener')\n",
    "    plt.ylim(y_range)\n",
    "    plt.xlim(x_range)\n",
    "\n",
    "    plt.legend()\n",
    "    plt.show()\n",
    "\n",
    "x_slider = widgets.FloatRangeSlider(\n",
    "    value=[x1, x2],\n",
    "    min=x1,\n",
    "    max=x2,\n",
    "    step=40,\n",
    "    description='X range:',\n",
    "    continuous_update=False,\n",
    "    orientation='horizontal',\n",
    "    readout=True,\n",
    ")\n",
    "\n",
    "y_slider = widgets.FloatRangeSlider(\n",
    "    value=[y1, y2],\n",
    "    min=y1,\n",
    "    max=y2,\n",
    "    step=100,\n",
    "    description='Y range:',\n",
    "    continuous_update=False,\n",
    "    orientation='horizontal',\n",
    "    readout=True,\n",
    "\n",
    ")\n",
    "\n",
    "def update_plot(x_range, y_range):\n",
    "    plot_functions(x_range, y_range)\n",
    "\n",
    "interactive_plot = widgets.interactive_output(update_plot, {'x_range': x_slider, 'y_range': y_slider})\n",
    "\n",
    "display(widgets.VBox([x_slider, y_slider, interactive_plot]))\n"
   ]
  },
  {
   "cell_type": "code",
   "execution_count": null,
   "metadata": {},
   "outputs": [],
   "source": []
  },
  {
   "cell_type": "code",
   "execution_count": null,
   "metadata": {},
   "outputs": [],
   "source": []
  }
 ],
 "metadata": {
  "kernelspec": {
   "display_name": "Python 3",
   "language": "python",
   "name": "python3"
  },
  "language_info": {
   "codemirror_mode": {
    "name": "ipython",
    "version": 3
   },
   "file_extension": ".py",
   "mimetype": "text/x-python",
   "name": "python",
   "nbconvert_exporter": "python",
   "pygments_lexer": "ipython3",
   "version": "3.10.10"
  },
  "orig_nbformat": 4
 },
 "nbformat": 4,
 "nbformat_minor": 2
}
